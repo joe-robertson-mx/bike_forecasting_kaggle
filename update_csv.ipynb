{
 "cells": [
  {
   "cell_type": "code",
   "execution_count": 1,
   "metadata": {},
   "outputs": [],
   "source": [
    "import pandas as pd\n",
    "\n",
    "# Read the CSV file\n",
    "df = pd.read_csv('./input/test.csv')\n",
    "\n",
    "# Convert the datetime column to pandas datetime format\n",
    "df['datetime'] = pd.to_datetime(df['datetime'])\n",
    "\n",
    "# Add 11 years to the datetime values\n",
    "df['datetime'] = df['datetime'] + pd.DateOffset(years=11)\n",
    "\n",
    "# Save the modified dataframe to a new CSV file\n",
    "df.to_csv('./input/test2023.csv', index=False)\n",
    "\n",
    "# Read the CSV file\n",
    "df = pd.read_csv('./input/train.csv')\n",
    "\n",
    "# Convert the datetime column to pandas datetime format\n",
    "df['datetime'] = pd.to_datetime(df['datetime'])\n",
    "\n",
    "# Add 11 years to the datetime values\n",
    "df['datetime'] = df['datetime'] + pd.DateOffset(years=11)\n",
    "\n",
    "# Save the modified dataframe to a new CSV file\n",
    "df.to_csv('./input/train2023.csv', index=False)"
   ]
  }
 ],
 "metadata": {
  "kernelspec": {
   "display_name": ".venv",
   "language": "python",
   "name": "python3"
  },
  "language_info": {
   "codemirror_mode": {
    "name": "ipython",
    "version": 3
   },
   "file_extension": ".py",
   "mimetype": "text/x-python",
   "name": "python",
   "nbconvert_exporter": "python",
   "pygments_lexer": "ipython3",
   "version": "3.9.2"
  },
  "orig_nbformat": 4
 },
 "nbformat": 4,
 "nbformat_minor": 2
}
